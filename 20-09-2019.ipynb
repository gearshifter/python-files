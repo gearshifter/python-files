{
 "cells": [
  {
   "cell_type": "markdown",
   "metadata": {},
   "source": [
    "# Match sticks even or odd"
   ]
  },
  {
   "cell_type": "code",
   "execution_count": 1,
   "metadata": {},
   "outputs": [
    {
     "name": "stdout",
     "output_type": "stream",
     "text": [
      "15\n",
      "7 1111111\n"
     ]
    }
   ],
   "source": [
    "n=input()\n",
    "s={0:6,1:2,2:5,3:5,4:4,5:5,6:6,7:3,8:7,9:6}\n",
    "c=0\n",
    "for i in n:\n",
    "    c=c+s[int(i)]\n",
    "if c%2==0:\n",
    "    print(\"1\"*c)\n",
    "else:\n",
    "    print(\"7\",(\"1\"*c))"
   ]
  },
  {
   "cell_type": "code",
   "execution_count": 12,
   "metadata": {},
   "outputs": [
    {
     "name": "stdout",
     "output_type": "stream",
     "text": [
      "5\n",
      "7 1\n"
     ]
    }
   ],
   "source": [
    "n=input()\n",
    "s={0:6,1:2,2:5,3:5,4:4,5:5,6:6,7:3,8:7,9:6}\n",
    "c=0\n",
    "V=0\n",
    "for i in n:\n",
    "    c=c+s[int(i)]\n",
    "k=c//2\n",
    "if c%2==0:\n",
    "    print(\"1\"*k)\n",
    "else:\n",
    "    print(\"7\",(\"1\"*(k-1)))"
   ]
  },
  {
   "cell_type": "markdown",
   "metadata": {},
   "source": [
    "# ISBN NUMBER"
   ]
  },
  {
   "cell_type": "code",
   "execution_count": 21,
   "metadata": {},
   "outputs": [
    {
     "name": "stdout",
     "output_type": "stream",
     "text": [
      "enter ISBN:14567\n",
      "enter 10 digit number\n"
     ]
    }
   ],
   "source": [
    "n=input(\"enter ISBN:\")\n",
    "c=0\n",
    "v=0\n",
    "l=1\n",
    "for i in n:\n",
    "    c=c+1\n",
    "if c==10:\n",
    "    for j in n:\n",
    "        v=v+(l*int(j))\n",
    "        l=l+1\n",
    "    if v%11==0:\n",
    "        print(\"Legal ISBN Number\")\n",
    "    else:\n",
    "        print(\"Illegal ISBN Number\")\n",
    "else:\n",
    "    print(\"enter 10 digit number\")\n",
    "    \n"
   ]
  },
  {
   "cell_type": "code",
   "execution_count": null,
   "metadata": {},
   "outputs": [],
   "source": []
  },
  {
   "cell_type": "code",
   "execution_count": null,
   "metadata": {},
   "outputs": [],
   "source": []
  }
 ],
 "metadata": {
  "kernelspec": {
   "display_name": "Python 3",
   "language": "python",
   "name": "python3"
  },
  "language_info": {
   "codemirror_mode": {
    "name": "ipython",
    "version": 3
   },
   "file_extension": ".py",
   "mimetype": "text/x-python",
   "name": "python",
   "nbconvert_exporter": "python",
   "pygments_lexer": "ipython3",
   "version": "3.7.3"
  }
 },
 "nbformat": 4,
 "nbformat_minor": 2
}
