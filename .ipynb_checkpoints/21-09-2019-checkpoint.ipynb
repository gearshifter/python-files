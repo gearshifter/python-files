{
 "cells": [
  {
   "cell_type": "markdown",
   "metadata": {},
   "source": [
    "# Number of character in a file"
   ]
  },
  {
   "cell_type": "code",
   "execution_count": 27,
   "metadata": {},
   "outputs": [],
   "source": [
    "filepath=\"../python-files/sample1.txt\"\n",
    "with open(filepath,'w') as v:\n",
    "    v.write(\"khit@apssdc.info wants your email address to be their recovery email.If you don’t recognize this account,\\n it’s likely your email address was added in error.\\n You can remove your email address from that account.\")\n",
    "    "
   ]
  },
  {
   "cell_type": "code",
   "execution_count": 26,
   "metadata": {},
   "outputs": [
    {
     "name": "stdout",
     "output_type": "stream",
     "text": [
      "khit@apssdc.info wants your email address to be their recovery email.If you don’t recognize this account,\n",
      " it’s likely your email address was added in error.\n",
      " You can remove your email address from that account.\n"
     ]
    }
   ],
   "source": [
    "filepath=\"../python-files/sample1.txt\"\n",
    "with open(filepath,'r') as v:\n",
    "    p=v.read()\n",
    "    print(p)"
   ]
  },
  {
   "cell_type": "markdown",
   "metadata": {},
   "source": [
    "# time spent on tasks"
   ]
  },
  {
   "cell_type": "code",
   "execution_count": 2,
   "metadata": {},
   "outputs": [
    {
     "ename": "SyntaxError",
     "evalue": "invalid syntax (<ipython-input-2-451e12583536>, line 10)",
     "output_type": "error",
     "traceback": [
      "\u001b[1;36m  File \u001b[1;32m\"<ipython-input-2-451e12583536>\"\u001b[1;36m, line \u001b[1;32m10\u001b[0m\n\u001b[1;33m    if((sh and eh<=24)and(sm and em<=60)):\u001b[0m\n\u001b[1;37m                                         ^\u001b[0m\n\u001b[1;31mSyntaxError\u001b[0m\u001b[1;31m:\u001b[0m invalid syntax\n"
     ]
    }
   ],
   "source": [
    "v=int(input(\"No of tasks in a Day:\"))\n",
    "i=1\n",
    "while(i<=v):\n",
    "    n=input(\"sh sm eh em:\")\n",
    "    n=n.split()\n",
    "    sh=int(n[0])\n",
    "    sm=int(n[1])\n",
    "    eh=int(n[2])\n",
    "    em=int(n[3]\n",
    "    if((sh and eh<=24)and(sm and em<=60)):\n",
    "           a=abs(1-(eh-sh))\n",
    "           b=abs(60-(sm-em))\n",
    "           print(a,b)\n",
    "    else:\n",
    "           print(\"invalid input\")\n",
    "i=i+1"
   ]
  },
  {
   "cell_type": "code",
   "execution_count": null,
   "metadata": {},
   "outputs": [],
   "source": [
    "\n"
   ]
  },
  {
   "cell_type": "code",
   "execution_count": null,
   "metadata": {},
   "outputs": [],
   "source": []
  }
 ],
 "metadata": {
  "kernelspec": {
   "display_name": "Python 3",
   "language": "python",
   "name": "python3"
  },
  "language_info": {
   "codemirror_mode": {
    "name": "ipython",
    "version": 3
   },
   "file_extension": ".py",
   "mimetype": "text/x-python",
   "name": "python",
   "nbconvert_exporter": "python",
   "pygments_lexer": "ipython3",
   "version": "3.7.3"
  }
 },
 "nbformat": 4,
 "nbformat_minor": 2
}
